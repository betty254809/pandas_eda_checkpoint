{
  "cells": [
    {
      "cell_type": "markdown",
      "metadata": {
        "id": "K1Nj1GPt5s2I"
      },
      "source": [
        "## Final Project Submission\n",
        "\n",
        "Please fill out:\n",
        "* Student name:\n",
        "* Student pace: self paced / part time / full time\n",
        "* Scheduled project review date/time:\n",
        "* Instructor name:\n",
        "* Blog post URL:\n"
      ]
    },
    {
      "cell_type": "code",
      "execution_count": 16,
      "metadata": {
        "id": "ojnMvGM65s2S"
      },
      "outputs": [],
      "source": [
        "# Your code here - remember to use markdown cells for comments as well!"
      ]
    },
    {
      "cell_type": "markdown",
      "metadata": {
        "id": "-D7DB4zeDYmW"
      },
      "source": [
        "# Step 1: Load and Explore the Data\n",
        "\n",
        "    Loading the dataset into a Pandas DataFrame.\n",
        "    Checking for missing values.\n",
        "    Exploring the basic structure and key features."
      ]
    },
    {
      "cell_type": "code",
      "execution_count": 17,
      "metadata": {
        "colab": {
          "base_uri": "https://localhost:8080/",
          "height": 1000
        },
        "id": "peUKaudd5uuu",
        "outputId": "96740c7c-ef8b-4582-d1b2-6ecce61c31a5"
      },
      "outputs": [
        {
          "name": "stdout",
          "output_type": "stream",
          "text": [
            "<class 'pandas.core.frame.DataFrame'>\n",
            "RangeIndex: 88889 entries, 0 to 88888\n",
            "Data columns (total 31 columns):\n",
            " #   Column                  Non-Null Count  Dtype  \n",
            "---  ------                  --------------  -----  \n",
            " 0   Event.Id                88889 non-null  object \n",
            " 1   Investigation.Type      88889 non-null  object \n",
            " 2   Accident.Number         88889 non-null  object \n",
            " 3   Event.Date              88889 non-null  object \n",
            " 4   Location                88837 non-null  object \n",
            " 5   Country                 88663 non-null  object \n",
            " 6   Latitude                34382 non-null  object \n",
            " 7   Longitude               34373 non-null  object \n",
            " 8   Airport.Code            50132 non-null  object \n",
            " 9   Airport.Name            52704 non-null  object \n",
            " 10  Injury.Severity         87889 non-null  object \n",
            " 11  Aircraft.damage         85695 non-null  object \n",
            " 12  Aircraft.Category       32287 non-null  object \n",
            " 13  Registration.Number     87507 non-null  object \n",
            " 14  Make                    88826 non-null  object \n",
            " 15  Model                   88797 non-null  object \n",
            " 16  Amateur.Built           88787 non-null  object \n",
            " 17  Number.of.Engines       82805 non-null  float64\n",
            " 18  Engine.Type             81793 non-null  object \n",
            " 19  FAR.Description         32023 non-null  object \n",
            " 20  Schedule                12582 non-null  object \n",
            " 21  Purpose.of.flight       82697 non-null  object \n",
            " 22  Air.carrier             16648 non-null  object \n",
            " 23  Total.Fatal.Injuries    77488 non-null  float64\n",
            " 24  Total.Serious.Injuries  76379 non-null  float64\n",
            " 25  Total.Minor.Injuries    76956 non-null  float64\n",
            " 26  Total.Uninjured         82977 non-null  float64\n",
            " 27  Weather.Condition       84397 non-null  object \n",
            " 28  Broad.phase.of.flight   61724 non-null  object \n",
            " 29  Report.Status           82505 non-null  object \n",
            " 30  Publication.Date        75118 non-null  object \n",
            "dtypes: float64(5), object(26)\n",
            "memory usage: 21.0+ MB\n"
          ]
        },
        {
          "data": {
            "text/html": [
              "<div>\n",
              "<style scoped>\n",
              "    .dataframe tbody tr th:only-of-type {\n",
              "        vertical-align: middle;\n",
              "    }\n",
              "\n",
              "    .dataframe tbody tr th {\n",
              "        vertical-align: top;\n",
              "    }\n",
              "\n",
              "    .dataframe thead th {\n",
              "        text-align: right;\n",
              "    }\n",
              "</style>\n",
              "<table border=\"1\" class=\"dataframe\">\n",
              "  <thead>\n",
              "    <tr style=\"text-align: right;\">\n",
              "      <th></th>\n",
              "      <th>Event.Id</th>\n",
              "      <th>Investigation.Type</th>\n",
              "      <th>Accident.Number</th>\n",
              "      <th>Event.Date</th>\n",
              "      <th>Location</th>\n",
              "      <th>Country</th>\n",
              "      <th>Latitude</th>\n",
              "      <th>Longitude</th>\n",
              "      <th>Airport.Code</th>\n",
              "      <th>Airport.Name</th>\n",
              "      <th>...</th>\n",
              "      <th>Purpose.of.flight</th>\n",
              "      <th>Air.carrier</th>\n",
              "      <th>Total.Fatal.Injuries</th>\n",
              "      <th>Total.Serious.Injuries</th>\n",
              "      <th>Total.Minor.Injuries</th>\n",
              "      <th>Total.Uninjured</th>\n",
              "      <th>Weather.Condition</th>\n",
              "      <th>Broad.phase.of.flight</th>\n",
              "      <th>Report.Status</th>\n",
              "      <th>Publication.Date</th>\n",
              "    </tr>\n",
              "  </thead>\n",
              "  <tbody>\n",
              "    <tr>\n",
              "      <th>0</th>\n",
              "      <td>20001218X45444</td>\n",
              "      <td>Accident</td>\n",
              "      <td>SEA87LA080</td>\n",
              "      <td>1948-10-24</td>\n",
              "      <td>MOOSE CREEK, ID</td>\n",
              "      <td>United States</td>\n",
              "      <td>NaN</td>\n",
              "      <td>NaN</td>\n",
              "      <td>NaN</td>\n",
              "      <td>NaN</td>\n",
              "      <td>...</td>\n",
              "      <td>Personal</td>\n",
              "      <td>NaN</td>\n",
              "      <td>2.0</td>\n",
              "      <td>0.0</td>\n",
              "      <td>0.0</td>\n",
              "      <td>0.0</td>\n",
              "      <td>UNK</td>\n",
              "      <td>Cruise</td>\n",
              "      <td>Probable Cause</td>\n",
              "      <td>NaN</td>\n",
              "    </tr>\n",
              "    <tr>\n",
              "      <th>1</th>\n",
              "      <td>20001218X45447</td>\n",
              "      <td>Accident</td>\n",
              "      <td>LAX94LA336</td>\n",
              "      <td>1962-07-19</td>\n",
              "      <td>BRIDGEPORT, CA</td>\n",
              "      <td>United States</td>\n",
              "      <td>NaN</td>\n",
              "      <td>NaN</td>\n",
              "      <td>NaN</td>\n",
              "      <td>NaN</td>\n",
              "      <td>...</td>\n",
              "      <td>Personal</td>\n",
              "      <td>NaN</td>\n",
              "      <td>4.0</td>\n",
              "      <td>0.0</td>\n",
              "      <td>0.0</td>\n",
              "      <td>0.0</td>\n",
              "      <td>UNK</td>\n",
              "      <td>Unknown</td>\n",
              "      <td>Probable Cause</td>\n",
              "      <td>19-09-1996</td>\n",
              "    </tr>\n",
              "    <tr>\n",
              "      <th>2</th>\n",
              "      <td>20061025X01555</td>\n",
              "      <td>Accident</td>\n",
              "      <td>NYC07LA005</td>\n",
              "      <td>1974-08-30</td>\n",
              "      <td>Saltville, VA</td>\n",
              "      <td>United States</td>\n",
              "      <td>36.922223</td>\n",
              "      <td>-81.878056</td>\n",
              "      <td>NaN</td>\n",
              "      <td>NaN</td>\n",
              "      <td>...</td>\n",
              "      <td>Personal</td>\n",
              "      <td>NaN</td>\n",
              "      <td>3.0</td>\n",
              "      <td>NaN</td>\n",
              "      <td>NaN</td>\n",
              "      <td>NaN</td>\n",
              "      <td>IMC</td>\n",
              "      <td>Cruise</td>\n",
              "      <td>Probable Cause</td>\n",
              "      <td>26-02-2007</td>\n",
              "    </tr>\n",
              "    <tr>\n",
              "      <th>3</th>\n",
              "      <td>20001218X45448</td>\n",
              "      <td>Accident</td>\n",
              "      <td>LAX96LA321</td>\n",
              "      <td>1977-06-19</td>\n",
              "      <td>EUREKA, CA</td>\n",
              "      <td>United States</td>\n",
              "      <td>NaN</td>\n",
              "      <td>NaN</td>\n",
              "      <td>NaN</td>\n",
              "      <td>NaN</td>\n",
              "      <td>...</td>\n",
              "      <td>Personal</td>\n",
              "      <td>NaN</td>\n",
              "      <td>2.0</td>\n",
              "      <td>0.0</td>\n",
              "      <td>0.0</td>\n",
              "      <td>0.0</td>\n",
              "      <td>IMC</td>\n",
              "      <td>Cruise</td>\n",
              "      <td>Probable Cause</td>\n",
              "      <td>12-09-2000</td>\n",
              "    </tr>\n",
              "    <tr>\n",
              "      <th>4</th>\n",
              "      <td>20041105X01764</td>\n",
              "      <td>Accident</td>\n",
              "      <td>CHI79FA064</td>\n",
              "      <td>1979-08-02</td>\n",
              "      <td>Canton, OH</td>\n",
              "      <td>United States</td>\n",
              "      <td>NaN</td>\n",
              "      <td>NaN</td>\n",
              "      <td>NaN</td>\n",
              "      <td>NaN</td>\n",
              "      <td>...</td>\n",
              "      <td>Personal</td>\n",
              "      <td>NaN</td>\n",
              "      <td>1.0</td>\n",
              "      <td>2.0</td>\n",
              "      <td>NaN</td>\n",
              "      <td>0.0</td>\n",
              "      <td>VMC</td>\n",
              "      <td>Approach</td>\n",
              "      <td>Probable Cause</td>\n",
              "      <td>16-04-1980</td>\n",
              "    </tr>\n",
              "  </tbody>\n",
              "</table>\n",
              "<p>5 rows × 31 columns</p>\n",
              "</div>"
            ],
            "text/plain": [
              "         Event.Id Investigation.Type Accident.Number  Event.Date  \\\n",
              "0  20001218X45444           Accident      SEA87LA080  1948-10-24   \n",
              "1  20001218X45447           Accident      LAX94LA336  1962-07-19   \n",
              "2  20061025X01555           Accident      NYC07LA005  1974-08-30   \n",
              "3  20001218X45448           Accident      LAX96LA321  1977-06-19   \n",
              "4  20041105X01764           Accident      CHI79FA064  1979-08-02   \n",
              "\n",
              "          Location        Country   Latitude   Longitude Airport.Code  \\\n",
              "0  MOOSE CREEK, ID  United States        NaN         NaN          NaN   \n",
              "1   BRIDGEPORT, CA  United States        NaN         NaN          NaN   \n",
              "2    Saltville, VA  United States  36.922223  -81.878056          NaN   \n",
              "3       EUREKA, CA  United States        NaN         NaN          NaN   \n",
              "4       Canton, OH  United States        NaN         NaN          NaN   \n",
              "\n",
              "  Airport.Name  ... Purpose.of.flight Air.carrier Total.Fatal.Injuries  \\\n",
              "0          NaN  ...          Personal         NaN                  2.0   \n",
              "1          NaN  ...          Personal         NaN                  4.0   \n",
              "2          NaN  ...          Personal         NaN                  3.0   \n",
              "3          NaN  ...          Personal         NaN                  2.0   \n",
              "4          NaN  ...          Personal         NaN                  1.0   \n",
              "\n",
              "  Total.Serious.Injuries Total.Minor.Injuries Total.Uninjured  \\\n",
              "0                    0.0                  0.0             0.0   \n",
              "1                    0.0                  0.0             0.0   \n",
              "2                    NaN                  NaN             NaN   \n",
              "3                    0.0                  0.0             0.0   \n",
              "4                    2.0                  NaN             0.0   \n",
              "\n",
              "  Weather.Condition  Broad.phase.of.flight   Report.Status Publication.Date  \n",
              "0               UNK                 Cruise  Probable Cause              NaN  \n",
              "1               UNK                Unknown  Probable Cause       19-09-1996  \n",
              "2               IMC                 Cruise  Probable Cause       26-02-2007  \n",
              "3               IMC                 Cruise  Probable Cause       12-09-2000  \n",
              "4               VMC               Approach  Probable Cause       16-04-1980  \n",
              "\n",
              "[5 rows x 31 columns]"
            ]
          },
          "execution_count": 17,
          "metadata": {},
          "output_type": "execute_result"
        }
      ],
      "source": [
        "import pandas as pd\n",
        "\n",
        "# Loading the dataset\n",
        "file_path = \"AviationData.csv\"\n",
        "df = pd.read_csv(file_path, encoding='latin1', low_memory=False)\n",
        "\n",
        "# Display basic information\n",
        "df.info()\n",
        "\n",
        "# Display the first few rows\n",
        "df.head()\n"
      ]
    },
    {
      "cell_type": "code",
      "execution_count": 18,
      "metadata": {},
      "outputs": [
        {
          "data": {
            "text/plain": [
              "Event.Id                      0\n",
              "Investigation.Type            0\n",
              "Accident.Number               0\n",
              "Event.Date                    0\n",
              "Location                     52\n",
              "Country                     226\n",
              "Latitude                  54507\n",
              "Longitude                 54516\n",
              "Airport.Code              38757\n",
              "Airport.Name              36185\n",
              "Injury.Severity            1000\n",
              "Aircraft.damage            3194\n",
              "Aircraft.Category         56602\n",
              "Registration.Number        1382\n",
              "Make                         63\n",
              "Model                        92\n",
              "Amateur.Built               102\n",
              "Number.of.Engines          6084\n",
              "Engine.Type                7096\n",
              "FAR.Description           56866\n",
              "Schedule                  76307\n",
              "Purpose.of.flight          6192\n",
              "Air.carrier               72241\n",
              "Total.Fatal.Injuries      11401\n",
              "Total.Serious.Injuries    12510\n",
              "Total.Minor.Injuries      11933\n",
              "Total.Uninjured            5912\n",
              "Weather.Condition          4492\n",
              "Broad.phase.of.flight     27165\n",
              "Report.Status              6384\n",
              "Publication.Date          13771\n",
              "dtype: int64"
            ]
          },
          "execution_count": 18,
          "metadata": {},
          "output_type": "execute_result"
        }
      ],
      "source": [
        "df.isna().sum()"
      ]
    },
    {
      "cell_type": "code",
      "execution_count": 19,
      "metadata": {},
      "outputs": [
        {
          "data": {
            "text/plain": [
              "Event.Id                   object\n",
              "Investigation.Type         object\n",
              "Accident.Number            object\n",
              "Event.Date                 object\n",
              "Location                   object\n",
              "Country                    object\n",
              "Latitude                   object\n",
              "Longitude                  object\n",
              "Airport.Code               object\n",
              "Airport.Name               object\n",
              "Injury.Severity            object\n",
              "Aircraft.damage            object\n",
              "Aircraft.Category          object\n",
              "Registration.Number        object\n",
              "Make                       object\n",
              "Model                      object\n",
              "Amateur.Built              object\n",
              "Number.of.Engines         float64\n",
              "Engine.Type                object\n",
              "FAR.Description            object\n",
              "Schedule                   object\n",
              "Purpose.of.flight          object\n",
              "Air.carrier                object\n",
              "Total.Fatal.Injuries      float64\n",
              "Total.Serious.Injuries    float64\n",
              "Total.Minor.Injuries      float64\n",
              "Total.Uninjured           float64\n",
              "Weather.Condition          object\n",
              "Broad.phase.of.flight      object\n",
              "Report.Status              object\n",
              "Publication.Date           object\n",
              "dtype: object"
            ]
          },
          "execution_count": 19,
          "metadata": {},
          "output_type": "execute_result"
        }
      ],
      "source": [
        "df.dtypes"
      ]
    },
    {
      "cell_type": "code",
      "execution_count": 20,
      "metadata": {},
      "outputs": [
        {
          "data": {
            "text/plain": [
              "Index(['Event.Id', 'Investigation.Type', 'Accident.Number', 'Event.Date',\n",
              "       'Location', 'Country', 'Latitude', 'Longitude', 'Airport.Code',\n",
              "       'Airport.Name', 'Injury.Severity', 'Aircraft.damage',\n",
              "       'Aircraft.Category', 'Registration.Number', 'Make', 'Model',\n",
              "       'Amateur.Built', 'Number.of.Engines', 'Engine.Type', 'FAR.Description',\n",
              "       'Schedule', 'Purpose.of.flight', 'Air.carrier', 'Total.Fatal.Injuries',\n",
              "       'Total.Serious.Injuries', 'Total.Minor.Injuries', 'Total.Uninjured',\n",
              "       'Weather.Condition', 'Broad.phase.of.flight', 'Report.Status',\n",
              "       'Publication.Date'],\n",
              "      dtype='object')"
            ]
          },
          "execution_count": 20,
          "metadata": {},
          "output_type": "execute_result"
        }
      ],
      "source": [
        "df.columns"
      ]
    },
    {
      "attachments": {},
      "cell_type": "markdown",
      "metadata": {
        "id": "onu6_6ypDdnK"
      },
      "source": [
        "# Issues Identified:\n",
        "\n",
        "    Missing values: Many columns have missing data, especially Latitude, Longitude, Aircraft.Category, Air.carrier, etc.\n",
        "    Mixed data types warning in columns (6, 7, 28). We need to ensure correct data types.\n",
        "    Column names: They contain dots (.), which we should replace with underscores (_) for easier manipulation  eg (Airport.Code,Event.Date).\n",
        "    Date columns (Event.Date, Publication.Date) should be converted to proper datetime format.\n"
      ]
    },
    {
      "cell_type": "code",
      "execution_count": 21,
      "metadata": {
        "colab": {
          "base_uri": "https://localhost:8080/"
        },
        "id": "RCnssJGe6qAB",
        "outputId": "6e3f38f9-f209-492e-ebc3-1dec8ec83469"
      },
      "outputs": [
        {
          "name": "stderr",
          "output_type": "stream",
          "text": [
            "C:\\Users\\HP\\AppData\\Local\\Temp\\ipykernel_15200\\2725012523.py:6: UserWarning: Parsing dates in %d-%m-%Y format when dayfirst=False (the default) was specified. Pass `dayfirst=True` or specify a format to silence this warning.\n",
            "  df['Publication_Date'] = pd.to_datetime(df['Publication_Date'], errors='coerce')\n"
          ]
        },
        {
          "name": "stdout",
          "output_type": "stream",
          "text": [
            "Number of duplicate rows: 0\n",
            "Missing Values Per Column:\n",
            " Longitude                 76915\n",
            "Latitude                  76903\n",
            "Schedule                  76307\n",
            "Air_carrier               72241\n",
            "FAR_Description           56866\n",
            "Aircraft_Category         56602\n",
            "Airport_Code              38757\n",
            "Airport_Name              36185\n",
            "Broad_phase_of_flight     27165\n",
            "Publication_Date          13771\n",
            "Total_Serious_Injuries    12510\n",
            "Total_Minor_Injuries      11933\n",
            "Total_Fatal_Injuries      11401\n",
            "Engine_Type                7096\n",
            "Report_Status              6384\n",
            "Purpose_of_flight          6192\n",
            "Number_of_Engines          6084\n",
            "Total_Uninjured            5912\n",
            "Weather_Condition          4492\n",
            "Aircraft_damage            3194\n",
            "Registration_Number        1382\n",
            "Injury_Severity            1000\n",
            "Country                     226\n",
            "Amateur_Built               102\n",
            "Model                        92\n",
            "Make                         63\n",
            "Location                     52\n",
            "Investigation_Type            0\n",
            "Event_Date                    0\n",
            "Accident_Number               0\n",
            "Event_Id                      0\n",
            "dtype: int64\n"
          ]
        }
      ],
      "source": [
        "# Rename columns to use underscores instead of dots\n",
        "df.columns = df.columns.str.replace('.', '_')\n",
        "\n",
        "# Convert date columns to datetime format( errors='coerce' convert non-numeric values to nan)\n",
        "df['Event_Date'] = pd.to_datetime(df['Event_Date'], errors='coerce')\n",
        "df['Publication_Date'] = pd.to_datetime(df['Publication_Date'], errors='coerce')\n",
        "\n",
        "# Convert latitude and longitude to numeric\n",
        "df['Latitude'] = pd.to_numeric(df['Latitude'], errors='coerce')\n",
        "df['Longitude'] = pd.to_numeric(df['Longitude'], errors='coerce')\n",
        "\n",
        "# Check for duplicates\n",
        "duplicates = df.duplicated().sum()\n",
        "print(f\"Number of duplicate rows: {duplicates}\")\n",
        "\n",
        "# Display missing values\n",
        "missing_values = df.isnull().sum().sort_values(ascending=False)\n",
        "print(\"Missing Values Per Column:\\n\", missing_values)"
      ]
    },
    {
      "cell_type": "code",
      "execution_count": 22,
      "metadata": {},
      "outputs": [],
      "source": [
        "#type_accidents = df.groupby('Total_Fatal_Injuries').size()\n",
        "#print(type_accidents)"
      ]
    },
    {
      "attachments": {},
      "cell_type": "markdown",
      "metadata": {
        "id": "6XjP7HCqDn0U"
      },
      "source": [
        "# Next Steps in Cleaning\n",
        "\n",
        "     No duplicates available in rows.\n",
        "    Fix date parsing for Publication_Date.\n",
        "    Drop columns with excessive missing values (Latitude, Longitude, Schedule).\n",
        "    Fill missing numeric injury values with 0.0.\n",
        "    Fill categorical missing values with \"Unknown\"."
      ]
    },
    {
      "cell_type": "code",
      "execution_count": 23,
      "metadata": {
        "colab": {
          "base_uri": "https://localhost:8080/"
        },
        "id": "Y8fOxRyp69id",
        "outputId": "c061ee44-08c2-4b48-d785-4ffa9449b99a"
      },
      "outputs": [
        {
          "name": "stdout",
          "output_type": "stream",
          "text": [
            "Remaining Missing Values:\n",
            " Airport_Code              38757\n",
            "Airport_Name              36185\n",
            "Publication_Date          13771\n",
            "Engine_Type                7096\n",
            "Purpose_of_flight          6192\n",
            "Number_of_Engines          6084\n",
            "Registration_Number        1382\n",
            "Injury_Severity            1000\n",
            "Country                     226\n",
            "Amateur_Built               102\n",
            "Model                        92\n",
            "Make                         63\n",
            "Location                     52\n",
            "Aircraft_Category             0\n",
            "Total_Serious_Injuries        0\n",
            "Report_Status                 0\n",
            "Broad_phase_of_flight         0\n",
            "Weather_Condition             0\n",
            "Total_Uninjured               0\n",
            "Total_Minor_Injuries          0\n",
            "Air_carrier                   0\n",
            "Total_Fatal_Injuries          0\n",
            "Aircraft_damage               0\n",
            "Accident_Number               0\n",
            "FAR_Description               0\n",
            "Event_Date                    0\n",
            "Investigation_Type            0\n",
            "Event_Id                      0\n",
            "dtype: int64\n"
          ]
        }
      ],
      "source": [
        "\n",
        "\n",
        "# Reattempt correct date parsing\n",
        "df['Publication_Date'] = pd.to_datetime(df['Publication_Date'], format='%d-%m-%Y', errors='coerce')\n",
        "\n",
        "# Drop columns with excessive missing values (more than 70%)\n",
        "cols_to_drop = ['Latitude', 'Longitude', 'Schedule']\n",
        "df = df.drop(columns=cols_to_drop)\n",
        "\n",
        "# Fill missing numerical injury values with 0\n",
        "injury_cols = ['Total_Fatal_Injuries', 'Total_Serious_Injuries', 'Total_Minor_Injuries', 'Total_Uninjured']\n",
        "df[injury_cols] = df[injury_cols].fillna(0)\n",
        "\n",
        "# Fill missing categorical values with \"Unknown\"\n",
        "cat_cols = ['Aircraft_Category', 'Air_carrier', 'FAR_Description', 'Broad_phase_of_flight',\n",
        "            'Weather_Condition', 'Aircraft_damage', 'Report_Status']\n",
        "df[cat_cols] = df[cat_cols].fillna('Unknown')\n",
        "\n",
        "# Display summary of remaining missing values\n",
        "print(\"Remaining Missing Values:\\n\", df.isnull().sum().sort_values(ascending=False))\n"
      ]
    },
    {
      "cell_type": "markdown",
      "metadata": {
        "id": "6bF_QIozE6DY"
      },
      "source": [
        "# Remaining Missing Values:\n",
        "\n",
        "    Airport_Code & Airport_Name: Still missing in ~40% of cases. Can be filled with \"Unknown\" or dropped if irrelevant.\n",
        "    Publication_Date: Still has 15,299 missing values. Likely due to failed conversion.\n",
        "    Engine_Type, Purpose_of_flight, Number_of_Engines: Still has some missing values.\n",
        "    Registration_Number, Injury_Severity, Country, Amateur_Built, Model, Make, Location: Minor missing values."
      ]
    },
    {
      "cell_type": "code",
      "execution_count": 24,
      "metadata": {
        "colab": {
          "base_uri": "https://localhost:8080/"
        },
        "id": "KEURO1kk-O-H",
        "outputId": "c4f7fd6b-eb5f-4e09-fbad-bc4d3fba6914"
      },
      "outputs": [
        {
          "name": "stdout",
          "output_type": "stream",
          "text": [
            "Final Missing Values:\n",
            " Publication_Date          13771\n",
            "Investigation_Type            0\n",
            "Report_Status                 0\n",
            "Broad_phase_of_flight         0\n",
            "Weather_Condition             0\n",
            "Total_Uninjured               0\n",
            "Total_Minor_Injuries          0\n",
            "Total_Serious_Injuries        0\n",
            "Total_Fatal_Injuries          0\n",
            "Air_carrier                   0\n",
            "Purpose_of_flight             0\n",
            "FAR_Description               0\n",
            "Engine_Type                   0\n",
            "Number_of_Engines             0\n",
            "Event_Id                      0\n",
            "Model                         0\n",
            "Make                          0\n",
            "Registration_Number           0\n",
            "Aircraft_Category             0\n",
            "Aircraft_damage               0\n",
            "Injury_Severity               0\n",
            "Airport_Name                  0\n",
            "Airport_Code                  0\n",
            "Country                       0\n",
            "Location                      0\n",
            "Event_Date                    0\n",
            "Accident_Number               0\n",
            "Amateur_Built                 0\n",
            "dtype: int64\n"
          ]
        }
      ],
      "source": [
        "import numpy as np\n",
        "\n",
        "# Use .loc[] to avoid SettingWithCopyWarning\n",
        "df.loc[:, 'Publication_Date'] = pd.to_datetime(df['Publication_Date'], format='%d-%m-%Y', errors='coerce')\n",
        "\n",
        "# Fill categorical missing values with 'Unknown'\n",
        "cat_cols = ['Airport_Code', 'Airport_Name', 'Engine_Type', 'Purpose_of_flight', 'Registration_Number',\n",
        "            'Injury_Severity', 'Country', 'Amateur_Built', 'Model', 'Make', 'Location']\n",
        "df[cat_cols] = df[cat_cols].fillna('Unknown')\n",
        "\n",
        "# Fill missing numerical values (Number_of_Engines) with median\n",
        "df['Number_of_Engines'] = df['Number_of_Engines'].fillna(df['Number_of_Engines'].median())\n",
        "\n",
        "# Display final missing values\n",
        "print(\"Final Missing Values:\\n\", df.isnull().sum().sort_values(ascending=False))\n"
      ]
    },
    {
      "cell_type": "code",
      "execution_count": 25,
      "metadata": {
        "colab": {
          "base_uri": "https://localhost:8080/"
        },
        "id": "7KtaLkor-gcR",
        "outputId": "f1b0793b-2b1c-4f08-f018-06f1f043d601"
      },
      "outputs": [
        {
          "name": "stderr",
          "output_type": "stream",
          "text": [
            "C:\\Users\\HP\\AppData\\Local\\Temp\\ipykernel_15200\\1157583794.py:2: FutureWarning: Setting an item of incompatible dtype is deprecated and will raise in a future error of pandas. Value '['Unknown' Timestamp('1996-09-19 00:00:00')\n",
            " Timestamp('2007-02-26 00:00:00') ... Timestamp('2022-12-27 00:00:00')\n",
            " 'Unknown' Timestamp('2022-12-30 00:00:00')]' has dtype incompatible with datetime64[ns], please explicitly cast to a compatible dtype first.\n",
            "  df.loc[:, 'Publication_Date'] = df['Publication_Date'].fillna('Unknown')\n"
          ]
        },
        {
          "name": "stdout",
          "output_type": "stream",
          "text": [
            "Final Missing Values:\n",
            " Event_Id                  0\n",
            "Investigation_Type        0\n",
            "Report_Status             0\n",
            "Broad_phase_of_flight     0\n",
            "Weather_Condition         0\n",
            "Total_Uninjured           0\n",
            "Total_Minor_Injuries      0\n",
            "Total_Serious_Injuries    0\n",
            "Total_Fatal_Injuries      0\n",
            "Air_carrier               0\n",
            "Purpose_of_flight         0\n",
            "FAR_Description           0\n",
            "Engine_Type               0\n",
            "Number_of_Engines         0\n",
            "Amateur_Built             0\n",
            "Model                     0\n",
            "Make                      0\n",
            "Registration_Number       0\n",
            "Aircraft_Category         0\n",
            "Aircraft_damage           0\n",
            "Injury_Severity           0\n",
            "Airport_Name              0\n",
            "Airport_Code              0\n",
            "Country                   0\n",
            "Location                  0\n",
            "Event_Date                0\n",
            "Accident_Number           0\n",
            "Publication_Date          0\n",
            "dtype: int64\n"
          ]
        }
      ],
      "source": [
        "# Fill missing Publication_Date with 'Unknown'\n",
        "df.loc[:, 'Publication_Date'] = df['Publication_Date'].fillna('Unknown')\n",
        "\n",
        "# Drop rows where Event_Date, Event_Id, or Accident_Number is missing\n",
        "df = df.dropna(subset=['Event_Date', 'Event_Id', 'Accident_Number'])\n",
        "\n",
        "# Display final missing values\n",
        "print(\"Final Missing Values:\\n\", df.isnull().sum().sort_values(ascending=False))\n"
      ]
    },
    {
      "cell_type": "markdown",
      "metadata": {
        "id": "HHT5_Lat-ooY"
      },
      "source": [
        "# **INITIAL EDA**"
      ]
    },
    {
      "attachments": {},
      "cell_type": "markdown",
      "metadata": {},
      "source": [
        "### identifying patterns and relationships"
      ]
    },
    {
      "cell_type": "code",
      "execution_count": 26,
      "metadata": {
        "colab": {
          "base_uri": "https://localhost:8080/"
        },
        "id": "S-pjXioE-r2c",
        "outputId": "c2eba692-4ab2-4fa1-90fb-b0168f7dd074"
      },
      "outputs": [
        {
          "name": "stdout",
          "output_type": "stream",
          "text": [
            "Dataset contains 88889 rows and 28 columns.\n",
            "\n",
            "Summary Statistics (Numerical Data):\n",
            "                           Event_Date  Number_of_Engines  Total_Fatal_Injuries  \\\n",
            "count                          88889       88889.000000          88889.000000   \n",
            "mean   1999-09-17 17:13:39.354475904           1.136552              0.564761   \n",
            "min              1948-10-24 00:00:00           0.000000              0.000000   \n",
            "25%              1989-01-15 00:00:00           1.000000              0.000000   \n",
            "50%              1998-07-18 00:00:00           1.000000              0.000000   \n",
            "75%              2009-07-01 00:00:00           1.000000              0.000000   \n",
            "max              2022-12-29 00:00:00           8.000000            349.000000   \n",
            "std                              NaN           0.432545              5.126649   \n",
            "\n",
            "       Total_Serious_Injuries  Total_Minor_Injuries  Total_Uninjured  \n",
            "count            88889.000000          88889.000000     88889.000000  \n",
            "mean                 0.240491              0.309127         4.971245  \n",
            "min                  0.000000              0.000000         0.000000  \n",
            "25%                  0.000000              0.000000         0.000000  \n",
            "50%                  0.000000              0.000000         1.000000  \n",
            "75%                  0.000000              0.000000         2.000000  \n",
            "max                161.000000            380.000000       699.000000  \n",
            "std                  1.434614              2.083715        27.002011  \n",
            "\n",
            "Top 5 values in Investigation_Type:\n",
            " Investigation_Type\n",
            "Accident    85015\n",
            "Incident     3874\n",
            "Name: count, dtype: int64\n",
            "\n",
            "Top 5 values in Aircraft_Category:\n",
            " Aircraft_Category\n",
            "Unknown       56616\n",
            "Airplane      27617\n",
            "Helicopter     3440\n",
            "Glider          508\n",
            "Balloon         231\n",
            "Name: count, dtype: int64\n",
            "\n",
            "Top 5 values in Weather_Condition:\n",
            " Weather_Condition\n",
            "VMC        77303\n",
            "IMC         5976\n",
            "Unknown     4492\n",
            "UNK          856\n",
            "Unk          262\n",
            "Name: count, dtype: int64\n",
            "\n",
            "Top 5 values in Aircraft_damage:\n",
            " Aircraft_damage\n",
            "Substantial    64148\n",
            "Destroyed      18623\n",
            "Unknown         3313\n",
            "Minor           2805\n",
            "Name: count, dtype: int64\n",
            "\n",
            "Top 5 values in Broad_phase_of_flight:\n",
            " Broad_phase_of_flight\n",
            "Unknown        27713\n",
            "Landing        15428\n",
            "Takeoff        12493\n",
            "Cruise         10269\n",
            "Maneuvering     8144\n",
            "Name: count, dtype: int64\n"
          ]
        }
      ],
      "source": [
        "import matplotlib.pyplot as plt\n",
        "import seaborn as sns\n",
        "\n",
        "# Dataset shape\n",
        "print(f\"Dataset contains {df.shape[0]} rows and {df.shape[1]} columns.\\n\")\n",
        "\n",
        "# Summary of numerical columns\n",
        "print(\"Summary Statistics (Numerical Data):\\n\", df.describe())\n",
        "\n",
        "# Summary of categorical columns (Top 5 values for each)\n",
        "cat_columns = ['Investigation_Type', 'Aircraft_Category', 'Weather_Condition', 'Aircraft_damage', 'Broad_phase_of_flight']\n",
        "for col in cat_columns:\n",
        "    print(f\"\\nTop 5 values in {col}:\\n\", df[col].value_counts().head())\n",
        "\n",
        "\n"
      ]
    },
    {
      "cell_type": "markdown",
      "metadata": {
        "id": "u-hd7ooq_CnO"
      },
      "source": [
        "# Key Insights from EDA\n",
        "\n",
        "1️⃣ General Overview\n",
        "\n",
        "    The dataset contains 88,889 accident/incident records across 28 columns.\n",
        "    Most cases (85,015) are accidents, while 3,874 are incidents (less severe).\n",
        "\n",
        "2️⃣ Injury Statistics\n",
        "\n",
        "    Most accidents have no fatalities (median = 0 fatal injuries).\n",
        "    However, some severe cases had up to 349 fatalities in a single event.\n",
        "    The maximum number of uninjured people in one case was 699.\n",
        "\n",
        "3️⃣ Aircraft Categories\n",
        "\n",
        "    Airplanes make up the majority (27,617 cases), followed by helicopters and gliders.\n",
        "    Over 56,000 cases are labeled \"Unknown\" → May need further exploration.\n",
        "\n",
        "4️⃣ Weather Conditions\n",
        "\n",
        "    77,303 cases (87%) occurred in Visual Meteorological Conditions (VMC) → Clear weather.\n",
        "    Only 5,976 (6.7%) occurred in Instrument Meteorological Conditions (IMC) → Bad weather.\n",
        "    Some records have inconsistent labels (Unknown, UNK, Unk), which we should standardize.\n",
        "\n",
        "5️⃣ Aircraft Damage\n",
        "\n",
        "    64,148 cases resulted in \"Substantial\" damage, and 18,623 were \"Destroyed\".\n",
        "    Only 2,805 cases had \"Minor\" damage, indicating most incidents cause serious damage.\n",
        "\n",
        "6️⃣ Accident Phases\n",
        "\n",
        "    Landing (15,428 cases) and Takeoff (12,493 cases) are the riskiest flight phases.\n",
        "    10,269 accidents happened during cruise—less common but usually severe."
      ]
    },
    {
      "cell_type": "markdown",
      "metadata": {
        "id": "_c1z5WlA_KX9"
      },
      "source": [
        "# **ACCIDENTS TREND OVER TIME**"
      ]
    },
    {
      "cell_type": "code",
      "execution_count": 27,
      "metadata": {
        "colab": {
          "base_uri": "https://localhost:8080/",
          "height": 584
        },
        "id": "yZW_U72H_ENZ",
        "outputId": "38aa6761-2da1-4998-c5c4-9a8c072e8adf"
      },
      "outputs": [
        {
          "data": {
            "image/png": "[encoded data removed]",
            "text/plain": [
              "<Figure size 1200x600 with 1 Axes>"
            ]
          },
          "metadata": {},
          "output_type": "display_data"
        }
      ],
      "source": [
        "# Plot yearly accident trends\n",
        "plt.figure(figsize=(12, 6))\n",
        "df['Event_Year'] = df['Event_Date'].dt.year\n",
        "yearly_counts = df['Event_Year'].value_counts().sort_index()\n",
        "\n",
        "sns.lineplot(x=yearly_counts.index, y=yearly_counts.values, marker='o', color='b')\n",
        "plt.xlabel(\"Year\")\n",
        "plt.ylabel(\"Number of Accidents\")\n",
        "plt.title(\"Aviation Accident Trends Over Time\")\n",
        "plt.grid(True)\n",
        "plt.show()\n"
      ]
    },
    {
      "cell_type": "markdown",
      "metadata": {
        "id": "79N4RKSe_jGQ"
      },
      "source": [
        "# Observations from the Trend Plot\n",
        "\n",
        "1️⃣ Data Quality Issue (Pre-1980s Spike)\n",
        "\n",
        "    The huge spike around 1980 suggests a data recording issue rather than an actual rise in accidents.\n",
        "    Very few accidents were recorded before 1980, which is likely due to incomplete historical data.\n",
        "\n",
        "2️⃣ Overall Decline in Accidents\n",
        "\n",
        "    From the mid-1980s onward, there's a gradual decline in accidents.\n",
        "    This aligns with improvements in aviation safety, better regulations, and advanced technology.\n",
        "\n",
        "3️⃣ Recent Fluctuations (2000–2022)\n",
        "\n",
        "    Accidents have remained relatively stable over the past two decades.\n",
        "    A dip around 2020 could be related to COVID-19 reducing air travel.\n",
        "\n"
      ]
    },
    {
      "cell_type": "code",
      "execution_count": 28,
      "metadata": {
        "colab": {
          "base_uri": "https://localhost:8080/",
          "height": 719
        },
        "id": "ckn1HQYD_kT4",
        "outputId": "3a396746-ab66-4f47-c1f6-b9bb555b8dae"
      },
      "outputs": [
        {
          "name": "stderr",
          "output_type": "stream",
          "text": [
            "C:\\Users\\HP\\AppData\\Local\\Temp\\ipykernel_15200\\4226075982.py:5: FutureWarning: \n",
            "\n",
            "Passing `palette` without assigning `hue` is deprecated and will be removed in v0.14.0. Assign the `x` variable to `hue` and set `legend=False` for the same effect.\n",
            "\n",
            "  sns.barplot(x=top_models.index, y=top_models.values, palette=\"Blues_r\")\n"
          ]
        },
        {
          "data": {
            "image/png": "[encoded data removed]",
            "text/plain": [
              "<Figure size 1200x600 with 1 Axes>"
            ]
          },
          "metadata": {},
          "output_type": "display_data"
        }
      ],
      "source": [
        "# Top 10 aircraft models with the most accidents\n",
        "top_models = df['Model'].value_counts().head(10)\n",
        "\n",
        "plt.figure(figsize=(12, 6))\n",
        "sns.barplot(x=top_models.index, y=top_models.values, palette=\"Blues_r\")\n",
        "plt.xlabel(\"Aircraft Model\")\n",
        "plt.ylabel(\"Number of Accidents\")\n",
        "plt.title(\"Top 10 Aircraft Models with Most Accidents\")\n",
        "plt.xticks(rotation=45)\n",
        "plt.show()\n"
      ]
    },
    {
      "cell_type": "markdown",
      "metadata": {
        "id": "fnFgcHgCAJPK"
      },
      "source": [
        "# Insights from the Aircraft Model Accident Analysis\n",
        "\n",
        "1️⃣ Cessna Dominance\n",
        "\n",
        "    Cessna models (152, 172, 172N, 172M, etc.) appear most frequently.\n",
        "    These aircraft are widely used for training and general aviation, leading to a higher number of recorded incidents.\n",
        "\n",
        "2️⃣ Piper PA-28-140\n",
        "\n",
        "    A notable presence in the top 5.\n",
        "    This is a popular single-engine general aviation aircraft.\n",
        "\n",
        "3️⃣ Risk vs. Usage\n",
        "\n",
        "    The high accident count doesn't necessarily mean these models are unsafe—they might just be more commonly used.\n",
        "    To assess true risk, we’d need to normalize by total flight hours per model.\n",
        "\n"
      ]
    },
    {
      "cell_type": "markdown",
      "metadata": {
        "id": "_d4wCGyVAKaJ"
      },
      "source": [
        "# Next Step: Weather Condition Impact on Accidents"
      ]
    },
    {
      "cell_type": "code",
      "execution_count": 29,
      "metadata": {
        "colab": {
          "base_uri": "https://localhost:8080/",
          "height": 529
        },
        "id": "HokUyCpqAPBb",
        "outputId": "53d72f4e-94e0-426e-b050-3acc348fdbbe"
      },
      "outputs": [
        {
          "data": {
            "image/png": "[encoded data removed]",
            "text/plain": [
              "<Figure size 1000x500 with 1 Axes>"
            ]
          },
          "metadata": {},
          "output_type": "display_data"
        }
      ],
      "source": [
        "plt.figure(figsize=(10, 5))\n",
        "sns.countplot(x=\"Weather_Condition\", hue=\"Aircraft_damage\", data=df, palette=\"coolwarm\")\n",
        "plt.xlabel(\"Weather Condition\")\n",
        "plt.ylabel(\"Number of Accidents\")\n",
        "plt.title(\"Impact of Weather Conditions on Aircraft Damage\")\n",
        "plt.legend(title=\"Aircraft Damage\")\n",
        "plt.xticks(rotation=45)\n",
        "plt.show()\n"
      ]
    },
    {
      "cell_type": "markdown",
      "metadata": {
        "id": "CNbfUaaPAbEq"
      },
      "source": [
        "# Insights from Weather Condition Analysis\n",
        "\n",
        "1️⃣ Most Accidents Occur in VMC (Visual Meteorological Conditions)\n",
        "\n",
        "    A significant majority of accidents happen in VMC (clear weather).\n",
        "    This suggests that pilot error, mechanical failure, or other operational issues may be primary causes rather than bad weather.\n",
        "\n",
        "2️⃣ IMC (Instrument Meteorological Conditions) Accidents Have Higher Severity\n",
        "\n",
        "    Accidents in IMC (poor visibility, bad weather) tend to have a higher proportion of destroyed aircraft compared to VMC.\n",
        "    This aligns with expectations—bad weather increases accident severity due to lower visibility and challenging control conditions.\n",
        "\n",
        "3️⃣ Unknown/UNK Data Needs Investigation\n",
        "\n",
        "    There are some entries classified as Unknown (UNK) in weather conditions.\n",
        "    These could represent missing data or unreported conditions, and further investigation may be needed."
      ]
    },
    {
      "cell_type": "markdown",
      "metadata": {
        "id": "1veYD2XqAchY"
      },
      "source": [
        "# Phase 1 Business Recommendations\n",
        "    1. Aircraft Model Selection\n",
        "\n",
        "Recommendation: Choose aircraft models with lower accident rates and severity for the new aviation business.\n",
        "\n",
        "Findings from Data:\n",
        "\n",
        "    The Cessna 152 and 172 have the highest accident counts, followed by PA-28-140 and other general aviation aircraft.\n",
        "    These aircraft are widely used for training, which may explain their high accident rates.\n",
        "    The safest aircraft models should be those with significantly lower accident counts and severity.\n",
        "\n",
        "Actionable Recommendations:\n",
        "\n",
        "    Prioritize aircraft with fewer recorded accidents and lower severity levels.\n",
        "    Evaluate alternative models with better safety records, particularly for training or commercial operations.\n",
        "    Implement stricter maintenance and training programs for higher-risk aircraft if they must be used.\n",
        "\n",
        "2. Weather-Related Safety Improvements\n",
        "\n",
        "Recommendation: Strengthen pilot training and invest in advanced navigation/safety tech for poor-weather operations.\n",
        "\n",
        "Findings from Data:\n",
        "\n",
        "    The majority of accidents occur in VMC (Visual Meteorological Conditions), but those in IMC (Instrument Meteorological Conditions) are more severe.\n",
        "    Accidents in IMC conditions likely involve poor visibility, requiring better pilot training and tech interventions.\n",
        "\n",
        "Actionable Recommendations:\n",
        "\n",
        "    Enhance weather-related pilot training to improve decision-making in IMC.\n",
        "    Invest in advanced avionics (e.g., terrain awareness, weather radar, autopilot enhancements).\n",
        "    Mandate stricter operational policies for flights in poor weather (e.g., require additional experience for IMC flights).\n",
        "\n",
        "3. Operational Risk Management\n",
        "\n",
        "Recommendation: Improve training, maintenance, and regulations to reduce risks in critical flight phases.\n",
        "\n",
        "Findings from Data:\n",
        "\n",
        "    Most accidents occur during takeoff and landing, the most high-risk flight phases.\n",
        "    Mechanical failures, pilot error, and weather contribute to these risks.\n",
        "\n",
        "Actionable Recommendations:\n",
        "\n",
        "    Strengthen pilot training in high-risk flight phases (e.g., simulated emergency landings).\n",
        "    Improve maintenance schedules with predictive analytics to prevent mechanical failures.\n",
        "    Review regulatory measures to ensure compliance with best safety practices.\n",
        "\n",
        "Final Takeaway:\n",
        "\n",
        "    For aircraft selection → Choose lower-risk models or enhance safety measures for common models.\n",
        "    For weather safety → Invest in training and technology for poor weather conditions.\n",
        "    For operational risks → Focus on safer takeoff/landing procedures and maintenance improvements.\n",
        "My given recommendations will ensure a much safer aviation business strategy."
      ]
    },
    {
      "cell_type": "code",
      "execution_count": 30,
      "metadata": {},
      "outputs": [],
      "source": [
        "df.to_csv('AviationData.csv', index=False)"
      ]
    },
    {
      "cell_type": "code",
      "execution_count": null,
      "metadata": {},
      "outputs": [],
      "source": []
    }
  ],
  "metadata": {
    "colab": {
      "provenance": []
    },
    "kernelspec": {
      "display_name": "Python 3",
      "language": "python",
      "name": "python3"
    },
    "language_info": {
      "codemirror_mode": {
        "name": "ipython",
        "version": 3
      },
      "file_extension": ".py",
      "mimetype": "text/x-python",
      "name": "python",
      "nbconvert_exporter": "python",
      "pygments_lexer": "ipython3",
      "version": "3.12.4 | packaged by Anaconda, Inc. | (main, Jun 18 2024, 15:03:56) [MSC v.1929 64 bit (AMD64)]"
    },
    "vscode": {
      "interpreter": {
        "hash": "dc07d24e2f18896857f0b2a651fe84ba40ce7b297e58d8804a308c8039f752a6"
      }
    }
  },
  "nbformat": 4,
  "nbformat_minor": 0
}
